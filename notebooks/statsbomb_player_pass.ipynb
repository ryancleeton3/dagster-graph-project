{
 "cells": [
  {
   "cell_type": "markdown",
   "metadata": {},
   "source": [
    "# Get access to Statsbomb data\n",
    "* See link for [details about Statsbomb datasets](https://github.com/statsbomb/statsbombpy) and how to install `statsbombpy` \n",
    "* Run this notebook to create the raw datatset of all the passes  between players."
   ]
  },
  {
   "cell_type": "code",
   "execution_count": 1,
   "metadata": {},
   "outputs": [],
   "source": [
    "import pandas as pd\n",
    "from statsbombpy import sb\n",
    "from statsbombpy import api_client, public\n",
    "from statsbombpy.config import DEFAULT_CREDS, PARALLELL_CALLS_NUM\n",
    "from statsbombpy.helpers import filter_and_group_events, is_relevant, reduce_events"
   ]
  },
  {
   "cell_type": "markdown",
   "metadata": {},
   "source": [
    "# Get Matches"
   ]
  },
  {
   "cell_type": "code",
   "execution_count": 2,
   "metadata": {},
   "outputs": [],
   "source": [
    "import statsbombpy\n",
    "def lineup(match_id):\n",
    "    dfs_lineup = []\n",
    "    lineups = statsbombpy.public.lineups(match_id=match_id)\n",
    "    for l in lineups.values():\n",
    "        lineup = pd.DataFrame(l[\"lineup\"])\n",
    "        lineup[\"country\"] = lineup.country.apply(lambda c: c['name'] if str(c) != 'nan' else '')\n",
    "        lineup['team_name'] = l[\"team_name\"]\n",
    "        lineup['team_id'] = l[\"team_id\"]\n",
    "        dfs_lineup.append(lineup)\n",
    "    return pd.concat(dfs_lineup)"
   ]
  },
  {
   "cell_type": "code",
   "execution_count": 3,
   "metadata": {
    "tags": []
   },
   "outputs": [
    {
     "name": "stdout",
     "output_type": "stream",
     "text": [
      "credentials were not supplied. open data access only\n"
     ]
    }
   ],
   "source": [
    "df_competitions = sb.competitions()\n",
    "pairs_competitions = df_competitions[['competition_id', 'season_id']].values"
   ]
  },
  {
   "cell_type": "code",
   "execution_count": 4,
   "metadata": {
    "tags": []
   },
   "outputs": [
    {
     "name": "stdout",
     "output_type": "stream",
     "text": [
      "credentials were not supplied. open data access only\n",
      "credentials were not supplied. open data access only\n",
      "credentials were not supplied. open data access only\n",
      "credentials were not supplied. open data access only\n",
      "credentials were not supplied. open data access only\n",
      "credentials were not supplied. open data access only\n",
      "credentials were not supplied. open data access only\n",
      "credentials were not supplied. open data access only\n",
      "credentials were not supplied. open data access only\n",
      "credentials were not supplied. open data access only\n",
      "credentials were not supplied. open data access only\n",
      "credentials were not supplied. open data access only\n",
      "credentials were not supplied. open data access only\n",
      "credentials were not supplied. open data access only\n",
      "credentials were not supplied. open data access only\n",
      "16,76 - Exception: 'DataFrame' object has no attribute 'competition'\n",
      "credentials were not supplied. open data access only\n",
      "credentials were not supplied. open data access only\n",
      "credentials were not supplied. open data access only\n",
      "credentials were not supplied. open data access only\n",
      "credentials were not supplied. open data access only\n",
      "credentials were not supplied. open data access only\n",
      "credentials were not supplied. open data access only\n",
      "credentials were not supplied. open data access only\n",
      "credentials were not supplied. open data access only\n",
      "credentials were not supplied. open data access only\n",
      "credentials were not supplied. open data access only\n",
      "credentials were not supplied. open data access only\n",
      "credentials were not supplied. open data access only\n",
      "credentials were not supplied. open data access only\n",
      "credentials were not supplied. open data access only\n",
      "credentials were not supplied. open data access only\n",
      "credentials were not supplied. open data access only\n",
      "credentials were not supplied. open data access only\n",
      "credentials were not supplied. open data access only\n",
      "credentials were not supplied. open data access only\n",
      "credentials were not supplied. open data access only\n"
     ]
    }
   ],
   "source": [
    "dfs_matches = []\n",
    "for competition_id, season_id in pairs_competitions:\n",
    "    try:\n",
    "        df_match = sb.matches(competition_id=competition_id, season_id=season_id)\n",
    "        df_match['competition_id'] = competition_id\n",
    "        df_match['season_id'] = season_id\n",
    "        dfs_matches.append(df_match)\n",
    "    except Exception as e:\n",
    "        print(f\"{competition_id},{season_id} - Exception: {e}\")\n",
    "df_matches = pd.concat(dfs_matches)\n",
    "matches_ids = df_matches['match_id'].values"
   ]
  },
  {
   "cell_type": "markdown",
   "metadata": {},
   "source": [
    "# Get Events (in match)"
   ]
  },
  {
   "cell_type": "markdown",
   "metadata": {},
   "source": [
    "Change `is_sample_matches` to `False` to get all passes (around 3M passes)"
   ]
  },
  {
   "cell_type": "code",
   "execution_count": 5,
   "metadata": {
    "scrolled": true,
    "tags": [
     "outputPrepend"
    ]
   },
   "outputs": [
    {
     "name": "stdout",
     "output_type": "stream",
     "text": [
      "credentials were not supplied. open data access only\n",
      "credentials were not supplied. open data access only\n",
      "credentials were not supplied. open data access only\n",
      "credentials were not supplied. open data access only\n",
      "credentials were not supplied. open data access only\n"
     ]
    },
    {
     "data": {
      "text/plain": [
       "'dfs_pass_events: (18116, 44)'"
      ]
     },
     "metadata": {},
     "output_type": "display_data"
    }
   ],
   "source": [
    "dfs_pass_events = []\n",
    "is_sample_matches = True\n",
    "if is_sample_matches:\n",
    "    sample_matches = matches_ids[:5]\n",
    "else:\n",
    "    sample_matches = matches_ids\n",
    "    \n",
    "for match_id in sample_matches:\n",
    "    try:\n",
    "        dfs_pass_event = sb.events(match_id=match_id)        \n",
    "        dfs_pass_event['match_id'] = match_id\n",
    "        dfs_pass_event['pass_recipient'] = dfs_pass_event['pass'].dropna().apply(pd.Series)['recipient'].dropna().apply(pd.Series)['name']\n",
    "        dfs_pass_event['pass_recipient_id'] = dfs_pass_event['pass'].dropna().apply(pd.Series)['recipient'].dropna().apply(pd.Series)['id']  \n",
    "        dfs_pass_event['pass_length'] = dfs_pass_event['pass'].dropna().apply(pd.Series)['length']\n",
    "        dfs_pass_event['pass_type'] = dfs_pass_event['pass'].dropna().apply(pd.Series)['type'].dropna().apply(pd.Series)['name']        \n",
    "        # extract Player ID\n",
    "        l = {} \n",
    "        x = dfs_pass_event[dfs_pass_event.type=='Substitution']['substitution'].apply(pd.Series)['replacement'].values\n",
    "        l.update({i['name']: i['id'] for i in x})\n",
    "        for x in dfs_pass_event[dfs_pass_event.type=='Starting XI']['tactics']:\n",
    "            l.update({i['player']['name']: i['player']['id'] for i in x['lineup']})\n",
    "        df_players = pd.DataFrame.from_dict(l, orient='index',columns=['playerID'])\n",
    "        dfs_pass_event = pd.merge(dfs_pass_event, df_players, left_on='player', right_index=True)\n",
    "        \n",
    "        dfs_pass_events.append(dfs_pass_event)\n",
    "    except Exception as e:\n",
    "        print(f\"{match_id} - Exception: {e}\")\n",
    "dfs_pass_events = pd.concat(dfs_pass_events)  \n",
    "display(f\"dfs_pass_events: {dfs_pass_events.shape}\")  # (3025822, 46)"
   ]
  },
  {
   "cell_type": "code",
   "execution_count": 6,
   "metadata": {
    "scrolled": true
   },
   "outputs": [
    {
     "data": {
      "text/html": [
       "<div>\n",
       "<style scoped>\n",
       "    .dataframe tbody tr th:only-of-type {\n",
       "        vertical-align: middle;\n",
       "    }\n",
       "\n",
       "    .dataframe tbody tr th {\n",
       "        vertical-align: top;\n",
       "    }\n",
       "\n",
       "    .dataframe thead th {\n",
       "        text-align: right;\n",
       "    }\n",
       "</style>\n",
       "<table border=\"1\" class=\"dataframe\">\n",
       "  <thead>\n",
       "    <tr style=\"text-align: right;\">\n",
       "      <th></th>\n",
       "      <th>match_id</th>\n",
       "      <th>timestamp</th>\n",
       "      <th>possession_team</th>\n",
       "      <th>player</th>\n",
       "      <th>playerID</th>\n",
       "      <th>type</th>\n",
       "      <th>pass_recipient</th>\n",
       "      <th>pass_recipient_id</th>\n",
       "      <th>pass_length</th>\n",
       "      <th>pass_type</th>\n",
       "    </tr>\n",
       "  </thead>\n",
       "  <tbody>\n",
       "    <tr>\n",
       "      <th>1017</th>\n",
       "      <td>18242</td>\n",
       "      <td>00:03:07.915</td>\n",
       "      <td>Barcelona</td>\n",
       "      <td>Sergio Busquets i Burgos</td>\n",
       "      <td>5203</td>\n",
       "      <td>Ball Receipt*</td>\n",
       "      <td>NaN</td>\n",
       "      <td>NaN</td>\n",
       "      <td>NaN</td>\n",
       "      <td>NaN</td>\n",
       "    </tr>\n",
       "    <tr>\n",
       "      <th>2256</th>\n",
       "      <td>18242</td>\n",
       "      <td>00:38:24.030</td>\n",
       "      <td>Juventus</td>\n",
       "      <td>Paul Pogba</td>\n",
       "      <td>20004</td>\n",
       "      <td>Carry</td>\n",
       "      <td>NaN</td>\n",
       "      <td>NaN</td>\n",
       "      <td>NaN</td>\n",
       "      <td>NaN</td>\n",
       "    </tr>\n",
       "    <tr>\n",
       "      <th>3423</th>\n",
       "      <td>18242</td>\n",
       "      <td>00:34:40.061</td>\n",
       "      <td>Juventus</td>\n",
       "      <td>Luis Alberto Suárez Díaz</td>\n",
       "      <td>5246</td>\n",
       "      <td>Injury Stoppage</td>\n",
       "      <td>NaN</td>\n",
       "      <td>NaN</td>\n",
       "      <td>NaN</td>\n",
       "      <td>NaN</td>\n",
       "    </tr>\n",
       "    <tr>\n",
       "      <th>2171</th>\n",
       "      <td>18242</td>\n",
       "      <td>00:31:27.787</td>\n",
       "      <td>Barcelona</td>\n",
       "      <td>Sergio Busquets i Burgos</td>\n",
       "      <td>5203</td>\n",
       "      <td>Carry</td>\n",
       "      <td>NaN</td>\n",
       "      <td>NaN</td>\n",
       "      <td>NaN</td>\n",
       "      <td>NaN</td>\n",
       "    </tr>\n",
       "    <tr>\n",
       "      <th>2509</th>\n",
       "      <td>18242</td>\n",
       "      <td>00:20:15.120</td>\n",
       "      <td>Barcelona</td>\n",
       "      <td>Jordi Alba Ramos</td>\n",
       "      <td>5211</td>\n",
       "      <td>Carry</td>\n",
       "      <td>NaN</td>\n",
       "      <td>NaN</td>\n",
       "      <td>NaN</td>\n",
       "      <td>NaN</td>\n",
       "    </tr>\n",
       "  </tbody>\n",
       "</table>\n",
       "</div>"
      ],
      "text/plain": [
       "      match_id     timestamp possession_team                    player  \\\n",
       "1017     18242  00:03:07.915       Barcelona  Sergio Busquets i Burgos   \n",
       "2256     18242  00:38:24.030        Juventus                Paul Pogba   \n",
       "3423     18242  00:34:40.061        Juventus  Luis Alberto Suárez Díaz   \n",
       "2171     18242  00:31:27.787       Barcelona  Sergio Busquets i Burgos   \n",
       "2509     18242  00:20:15.120       Barcelona          Jordi Alba Ramos   \n",
       "\n",
       "      playerID             type pass_recipient  pass_recipient_id  \\\n",
       "1017      5203    Ball Receipt*            NaN                NaN   \n",
       "2256     20004            Carry            NaN                NaN   \n",
       "3423      5246  Injury Stoppage            NaN                NaN   \n",
       "2171      5203            Carry            NaN                NaN   \n",
       "2509      5211            Carry            NaN                NaN   \n",
       "\n",
       "      pass_length pass_type  \n",
       "1017          NaN       NaN  \n",
       "2256          NaN       NaN  \n",
       "3423          NaN       NaN  \n",
       "2171          NaN       NaN  \n",
       "2509          NaN       NaN  "
      ]
     },
     "execution_count": 6,
     "metadata": {},
     "output_type": "execute_result"
    }
   ],
   "source": [
    "_event_cols = ([ 'pass_length','pass_type'])\n",
    "cols = ['match_id','timestamp','possession_team','player','playerID', 'type',  'pass_recipient', 'pass_recipient_id',]  #'id','minute','related_events', 'substitution',  'foul_won', 'dribble', 'shot', 'goalkeeper', 'clearance', 'duel',\n",
    "event_cols = cols + _event_cols\n",
    "\n",
    "dfs_pass_event[event_cols].sample(5)"
   ]
  },
  {
   "cell_type": "markdown",
   "metadata": {},
   "source": [
    "# Export Passes Data"
   ]
  },
  {
   "cell_type": "code",
   "execution_count": null,
   "metadata": {},
   "outputs": [],
   "source": [
    "# dfs_pass_events.to_csv('../data/raw/statsbomb/player_pass.csv', sep='|')\n",
    "dfs_pass_events[dfs_pass_events['type']=='Pass'][event_cols].to_parquet(\n",
    "    path='../data/raw/statsbomb/player_pass.parq',\n",
    "    compression=None,\n",
    "    engine='fastparquet'\n",
    ")\n"
   ]
  }
 ],
 "metadata": {
  "kernelspec": {
   "display_name": "Python 3",
   "language": "python",
   "name": "python3"
  },
  "language_info": {
   "codemirror_mode": {
    "name": "ipython",
    "version": 3
   },
   "file_extension": ".py",
   "mimetype": "text/x-python",
   "name": "python",
   "nbconvert_exporter": "python",
   "pygments_lexer": "ipython3",
   "version": "3.7.6"
  }
 },
 "nbformat": 4,
 "nbformat_minor": 4
}
