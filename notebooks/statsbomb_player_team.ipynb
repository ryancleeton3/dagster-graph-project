{
 "cells": [
  {
   "cell_type": "markdown",
   "metadata": {},
   "source": [
    "# Get access to Statsbomb data\n",
    "* See link for [details about Statsbomb datasets](https://github.com/statsbomb/statsbombpy) and how to install `statsbombpy` \n",
    "* Run this notebook to create the raw datatset of all the passes  between players."
   ]
  },
  {
   "cell_type": "code",
   "execution_count": 1,
   "metadata": {},
   "outputs": [],
   "source": [
    "import pandas as pd\n",
    "from statsbombpy import sb\n",
    "from statsbombpy import api_client, public"
   ]
  },
  {
   "cell_type": "code",
   "execution_count": 2,
   "metadata": {},
   "outputs": [],
   "source": [
    "def lineup(match_id):\n",
    "    dfs_lineup = []\n",
    "    lineups = public.lineups(match_id=match_id)\n",
    "    for l in lineups.values():\n",
    "        lineup = pd.DataFrame(l[\"lineup\"])\n",
    "        lineup[\"country\"] = lineup.country.apply(lambda c: c['name'] if str(c) != 'nan' else '')\n",
    "        lineup['team_name'] = l[\"team_name\"]\n",
    "        lineup['team_id'] = l[\"team_id\"]\n",
    "        dfs_lineup.append(lineup)\n",
    "    return pd.concat(dfs_lineup)"
   ]
  },
  {
   "cell_type": "markdown",
   "metadata": {},
   "source": [
    "# Get competitions"
   ]
  },
  {
   "cell_type": "code",
   "execution_count": 3,
   "metadata": {},
   "outputs": [
    {
     "name": "stdout",
     "output_type": "stream",
     "text": [
      "credentials were not supplied. open data access only\n"
     ]
    }
   ],
   "source": [
    "df_competitions = sb.competitions()\n",
    "pairs_competitions = df_competitions[['competition_id', 'season_id']].values"
   ]
  },
  {
   "cell_type": "code",
   "execution_count": 4,
   "metadata": {},
   "outputs": [
    {
     "data": {
      "text/plain": [
       "36"
      ]
     },
     "execution_count": 4,
     "metadata": {},
     "output_type": "execute_result"
    }
   ],
   "source": [
    "len(pairs_competitions)"
   ]
  },
  {
   "cell_type": "markdown",
   "metadata": {},
   "source": [
    "# Get matches"
   ]
  },
  {
   "cell_type": "code",
   "execution_count": 5,
   "metadata": {},
   "outputs": [
    {
     "name": "stdout",
     "output_type": "stream",
     "text": [
      "credentials were not supplied. open data access only\n",
      "credentials were not supplied. open data access only\n",
      "credentials were not supplied. open data access only\n",
      "credentials were not supplied. open data access only\n",
      "credentials were not supplied. open data access only\n",
      "credentials were not supplied. open data access only\n",
      "credentials were not supplied. open data access only\n",
      "credentials were not supplied. open data access only\n",
      "credentials were not supplied. open data access only\n",
      "credentials were not supplied. open data access only\n",
      "credentials were not supplied. open data access only\n",
      "credentials were not supplied. open data access only\n",
      "credentials were not supplied. open data access only\n",
      "credentials were not supplied. open data access only\n",
      "credentials were not supplied. open data access only\n",
      "16,76 - Exception: 'DataFrame' object has no attribute 'competition'\n",
      "credentials were not supplied. open data access only\n",
      "credentials were not supplied. open data access only\n",
      "credentials were not supplied. open data access only\n",
      "credentials were not supplied. open data access only\n",
      "credentials were not supplied. open data access only\n",
      "credentials were not supplied. open data access only\n",
      "credentials were not supplied. open data access only\n",
      "credentials were not supplied. open data access only\n",
      "credentials were not supplied. open data access only\n",
      "credentials were not supplied. open data access only\n",
      "credentials were not supplied. open data access only\n",
      "credentials were not supplied. open data access only\n",
      "credentials were not supplied. open data access only\n",
      "credentials were not supplied. open data access only\n",
      "credentials were not supplied. open data access only\n",
      "credentials were not supplied. open data access only\n",
      "credentials were not supplied. open data access only\n",
      "credentials were not supplied. open data access only\n",
      "credentials were not supplied. open data access only\n",
      "credentials were not supplied. open data access only\n",
      "credentials were not supplied. open data access only\n"
     ]
    }
   ],
   "source": [
    "dfs_matches = []\n",
    "for competition_id, season_id in pairs_competitions:\n",
    "    try:\n",
    "        df_match = sb.matches(competition_id=competition_id, season_id=season_id)\n",
    "        df_match['competition_id'] = competition_id\n",
    "        df_match['season_id'] = season_id\n",
    "        dfs_matches.append(df_match)\n",
    "    except Exception as e:\n",
    "        print(f\"{competition_id},{season_id} - Exception: {e}\")\n",
    "df_matches = pd.concat(dfs_matches)\n",
    "values_matches = df_matches['match_id'].values"
   ]
  },
  {
   "cell_type": "code",
   "execution_count": 6,
   "metadata": {},
   "outputs": [
    {
     "data": {
      "text/plain": [
       "844"
      ]
     },
     "execution_count": 6,
     "metadata": {},
     "output_type": "execute_result"
    }
   ],
   "source": [
    "len(values_matches)"
   ]
  },
  {
   "cell_type": "markdown",
   "metadata": {},
   "source": [
    "# Get Lineups"
   ]
  },
  {
   "cell_type": "code",
   "execution_count": 7,
   "metadata": {},
   "outputs": [],
   "source": [
    "dfs_lineups = []\n",
    "for match_id in values_matches[:10]:\n",
    "    try:\n",
    "        df_lineup = lineup(match_id)\n",
    "        df_lineup['match_id'] = match_id\n",
    "        dfs_lineups.append(df_lineup)\n",
    "    except Exception as e:\n",
    "        print(f\"{match_id} - Exception: {e}\")\n",
    "df_lineups = pd.concat(dfs_lineups)"
   ]
  },
  {
   "cell_type": "code",
   "execution_count": 8,
   "metadata": {},
   "outputs": [
    {
     "data": {
      "text/plain": [
       "'df_competitions: (36, 8)'"
      ]
     },
     "metadata": {},
     "output_type": "display_data"
    },
    {
     "data": {
      "text/html": [
       "<div>\n",
       "<style scoped>\n",
       "    .dataframe tbody tr th:only-of-type {\n",
       "        vertical-align: middle;\n",
       "    }\n",
       "\n",
       "    .dataframe tbody tr th {\n",
       "        vertical-align: top;\n",
       "    }\n",
       "\n",
       "    .dataframe thead th {\n",
       "        text-align: right;\n",
       "    }\n",
       "</style>\n",
       "<table border=\"1\" class=\"dataframe\">\n",
       "  <thead>\n",
       "    <tr style=\"text-align: right;\">\n",
       "      <th></th>\n",
       "      <th>competition_id</th>\n",
       "      <th>season_id</th>\n",
       "      <th>country_name</th>\n",
       "      <th>competition_name</th>\n",
       "      <th>competition_gender</th>\n",
       "      <th>season_name</th>\n",
       "      <th>match_updated</th>\n",
       "      <th>match_available</th>\n",
       "    </tr>\n",
       "  </thead>\n",
       "  <tbody>\n",
       "    <tr>\n",
       "      <th>0</th>\n",
       "      <td>16</td>\n",
       "      <td>4</td>\n",
       "      <td>Europe</td>\n",
       "      <td>Champions League</td>\n",
       "      <td>male</td>\n",
       "      <td>2018/2019</td>\n",
       "      <td>2020-02-27T12:19:39.458017</td>\n",
       "      <td>2020-02-27T12:19:39.458017</td>\n",
       "    </tr>\n",
       "    <tr>\n",
       "      <th>1</th>\n",
       "      <td>16</td>\n",
       "      <td>1</td>\n",
       "      <td>Europe</td>\n",
       "      <td>Champions League</td>\n",
       "      <td>male</td>\n",
       "      <td>2017/2018</td>\n",
       "      <td>2020-06-11T01:24:40.306618</td>\n",
       "      <td>2020-06-11T01:24:40.306618</td>\n",
       "    </tr>\n",
       "  </tbody>\n",
       "</table>\n",
       "</div>"
      ],
      "text/plain": [
       "   competition_id  season_id country_name  competition_name  \\\n",
       "0              16          4       Europe  Champions League   \n",
       "1              16          1       Europe  Champions League   \n",
       "\n",
       "  competition_gender season_name               match_updated  \\\n",
       "0               male   2018/2019  2020-02-27T12:19:39.458017   \n",
       "1               male   2017/2018  2020-06-11T01:24:40.306618   \n",
       "\n",
       "              match_available  \n",
       "0  2020-02-27T12:19:39.458017  \n",
       "1  2020-06-11T01:24:40.306618  "
      ]
     },
     "metadata": {},
     "output_type": "display_data"
    }
   ],
   "source": [
    "display(f\"df_competitions: {df_competitions.shape}\")\n",
    "display(df_competitions.head(2))"
   ]
  },
  {
   "cell_type": "code",
   "execution_count": 9,
   "metadata": {},
   "outputs": [
    {
     "data": {
      "text/plain": [
       "'df_matches: (844, 20)'"
      ]
     },
     "metadata": {},
     "output_type": "display_data"
    },
    {
     "data": {
      "text/html": [
       "<div>\n",
       "<style scoped>\n",
       "    .dataframe tbody tr th:only-of-type {\n",
       "        vertical-align: middle;\n",
       "    }\n",
       "\n",
       "    .dataframe tbody tr th {\n",
       "        vertical-align: top;\n",
       "    }\n",
       "\n",
       "    .dataframe thead th {\n",
       "        text-align: right;\n",
       "    }\n",
       "</style>\n",
       "<table border=\"1\" class=\"dataframe\">\n",
       "  <thead>\n",
       "    <tr style=\"text-align: right;\">\n",
       "      <th></th>\n",
       "      <th>match_id</th>\n",
       "      <th>match_date</th>\n",
       "      <th>kick_off</th>\n",
       "      <th>competition</th>\n",
       "      <th>season</th>\n",
       "      <th>home_team</th>\n",
       "      <th>away_team</th>\n",
       "      <th>home_score</th>\n",
       "      <th>away_score</th>\n",
       "      <th>match_status</th>\n",
       "      <th>last_updated</th>\n",
       "      <th>match_week</th>\n",
       "      <th>competition_stage</th>\n",
       "      <th>data_version</th>\n",
       "      <th>shot_fidelity_version</th>\n",
       "      <th>xy_fidelity_version</th>\n",
       "      <th>competition_id</th>\n",
       "      <th>season_id</th>\n",
       "      <th>stadium</th>\n",
       "      <th>referee</th>\n",
       "    </tr>\n",
       "  </thead>\n",
       "  <tbody>\n",
       "    <tr>\n",
       "      <th>0</th>\n",
       "      <td>22912</td>\n",
       "      <td>2019-06-01</td>\n",
       "      <td>21:00:00.000</td>\n",
       "      <td>Europe - Champions League</td>\n",
       "      <td>2018/2019</td>\n",
       "      <td>Tottenham Hotspur</td>\n",
       "      <td>Liverpool</td>\n",
       "      <td>0</td>\n",
       "      <td>2</td>\n",
       "      <td>available</td>\n",
       "      <td>2019-12-16T23:09:16.168756</td>\n",
       "      <td>13</td>\n",
       "      <td>Final</td>\n",
       "      <td>1.1.0</td>\n",
       "      <td>2</td>\n",
       "      <td>2</td>\n",
       "      <td>16</td>\n",
       "      <td>4</td>\n",
       "      <td>NaN</td>\n",
       "      <td>NaN</td>\n",
       "    </tr>\n",
       "    <tr>\n",
       "      <th>0</th>\n",
       "      <td>18245</td>\n",
       "      <td>2018-05-26</td>\n",
       "      <td>20:45:00.000</td>\n",
       "      <td>Europe - Champions League</td>\n",
       "      <td>2017/2018</td>\n",
       "      <td>Real Madrid</td>\n",
       "      <td>Liverpool</td>\n",
       "      <td>3</td>\n",
       "      <td>1</td>\n",
       "      <td>available</td>\n",
       "      <td>2020-06-11T01:24:40.306618</td>\n",
       "      <td>7</td>\n",
       "      <td>Final</td>\n",
       "      <td>1.1.0</td>\n",
       "      <td>2</td>\n",
       "      <td>2</td>\n",
       "      <td>16</td>\n",
       "      <td>1</td>\n",
       "      <td>{'id': 4222, 'name': 'NSK Olimpijskyj', 'count...</td>\n",
       "      <td>{'id': 727, 'name': 'M. Mažić'}</td>\n",
       "    </tr>\n",
       "  </tbody>\n",
       "</table>\n",
       "</div>"
      ],
      "text/plain": [
       "   match_id  match_date      kick_off                competition     season  \\\n",
       "0     22912  2019-06-01  21:00:00.000  Europe - Champions League  2018/2019   \n",
       "0     18245  2018-05-26  20:45:00.000  Europe - Champions League  2017/2018   \n",
       "\n",
       "           home_team  away_team  home_score  away_score match_status  \\\n",
       "0  Tottenham Hotspur  Liverpool           0           2    available   \n",
       "0        Real Madrid  Liverpool           3           1    available   \n",
       "\n",
       "                 last_updated  match_week competition_stage data_version  \\\n",
       "0  2019-12-16T23:09:16.168756          13             Final        1.1.0   \n",
       "0  2020-06-11T01:24:40.306618           7             Final        1.1.0   \n",
       "\n",
       "  shot_fidelity_version xy_fidelity_version  competition_id  season_id  \\\n",
       "0                     2                   2              16          4   \n",
       "0                     2                   2              16          1   \n",
       "\n",
       "                                             stadium  \\\n",
       "0                                                NaN   \n",
       "0  {'id': 4222, 'name': 'NSK Olimpijskyj', 'count...   \n",
       "\n",
       "                           referee  \n",
       "0                              NaN  \n",
       "0  {'id': 727, 'name': 'M. Mažić'}  "
      ]
     },
     "metadata": {},
     "output_type": "display_data"
    }
   ],
   "source": [
    "display(f\"df_matches: {df_matches.shape}\")\n",
    "display(df_matches.head(2))"
   ]
  },
  {
   "cell_type": "code",
   "execution_count": 10,
   "metadata": {},
   "outputs": [
    {
     "data": {
      "text/plain": [
       "'df_lineups: (352, 8)'"
      ]
     },
     "metadata": {},
     "output_type": "display_data"
    },
    {
     "data": {
      "text/html": [
       "<div>\n",
       "<style scoped>\n",
       "    .dataframe tbody tr th:only-of-type {\n",
       "        vertical-align: middle;\n",
       "    }\n",
       "\n",
       "    .dataframe tbody tr th {\n",
       "        vertical-align: top;\n",
       "    }\n",
       "\n",
       "    .dataframe thead th {\n",
       "        text-align: right;\n",
       "    }\n",
       "</style>\n",
       "<table border=\"1\" class=\"dataframe\">\n",
       "  <thead>\n",
       "    <tr style=\"text-align: right;\">\n",
       "      <th></th>\n",
       "      <th>player_id</th>\n",
       "      <th>player_name</th>\n",
       "      <th>player_nickname</th>\n",
       "      <th>jersey_number</th>\n",
       "      <th>country</th>\n",
       "      <th>team_name</th>\n",
       "      <th>team_id</th>\n",
       "      <th>match_id</th>\n",
       "    </tr>\n",
       "  </thead>\n",
       "  <tbody>\n",
       "    <tr>\n",
       "      <th>0</th>\n",
       "      <td>3043</td>\n",
       "      <td>Christian Dannemann Eriksen</td>\n",
       "      <td>Christian Eriksen</td>\n",
       "      <td>23</td>\n",
       "      <td>Denmark</td>\n",
       "      <td>Tottenham Hotspur</td>\n",
       "      <td>38</td>\n",
       "      <td>22912</td>\n",
       "    </tr>\n",
       "    <tr>\n",
       "      <th>1</th>\n",
       "      <td>3077</td>\n",
       "      <td>Jan Vertonghen</td>\n",
       "      <td>None</td>\n",
       "      <td>5</td>\n",
       "      <td>Belgium</td>\n",
       "      <td>Tottenham Hotspur</td>\n",
       "      <td>38</td>\n",
       "      <td>22912</td>\n",
       "    </tr>\n",
       "  </tbody>\n",
       "</table>\n",
       "</div>"
      ],
      "text/plain": [
       "   player_id                  player_name    player_nickname  jersey_number  \\\n",
       "0       3043  Christian Dannemann Eriksen  Christian Eriksen             23   \n",
       "1       3077               Jan Vertonghen               None              5   \n",
       "\n",
       "   country          team_name  team_id  match_id  \n",
       "0  Denmark  Tottenham Hotspur       38     22912  \n",
       "1  Belgium  Tottenham Hotspur       38     22912  "
      ]
     },
     "metadata": {},
     "output_type": "display_data"
    }
   ],
   "source": [
    "display(f\"df_lineups: {df_lineups.shape}\")\n",
    "display(df_lineups.head(2))"
   ]
  },
  {
   "cell_type": "code",
   "execution_count": 11,
   "metadata": {},
   "outputs": [
    {
     "data": {
      "text/plain": [
       "Index(['player_id', 'player_name', 'player_nickname', 'jersey_number',\n",
       "       'country', 'team_name', 'team_id', 'match_id'],\n",
       "      dtype='object')"
      ]
     },
     "execution_count": 11,
     "metadata": {},
     "output_type": "execute_result"
    }
   ],
   "source": [
    "df_lineups.columns"
   ]
  },
  {
   "cell_type": "code",
   "execution_count": 12,
   "metadata": {},
   "outputs": [
    {
     "data": {
      "text/plain": [
       "Index(['match_id', 'match_date', 'kick_off', 'competition', 'season',\n",
       "       'home_team', 'away_team', 'home_score', 'away_score', 'match_status',\n",
       "       'last_updated', 'match_week', 'competition_stage', 'data_version',\n",
       "       'shot_fidelity_version', 'xy_fidelity_version', 'competition_id',\n",
       "       'season_id', 'stadium', 'referee'],\n",
       "      dtype='object')"
      ]
     },
     "execution_count": 12,
     "metadata": {},
     "output_type": "execute_result"
    }
   ],
   "source": [
    "df_matches.columns"
   ]
  },
  {
   "cell_type": "code",
   "execution_count": 13,
   "metadata": {},
   "outputs": [
    {
     "data": {
      "text/plain": [
       "Index(['competition_id', 'season_id', 'country_name', 'competition_name',\n",
       "       'competition_gender', 'season_name', 'match_updated',\n",
       "       'match_available'],\n",
       "      dtype='object')"
      ]
     },
     "execution_count": 13,
     "metadata": {},
     "output_type": "execute_result"
    }
   ],
   "source": [
    "df_competitions.columns"
   ]
  },
  {
   "cell_type": "markdown",
   "metadata": {},
   "source": [
    "# Merge to one dataframe"
   ]
  },
  {
   "cell_type": "code",
   "execution_count": 14,
   "metadata": {},
   "outputs": [],
   "source": [
    "df_final = df_lineups.merge(df_matches, on='match_id', how='left')\n",
    "df_final = df_final.merge(df_competitions, on=['competition_id', 'season_id'], how='left')"
   ]
  },
  {
   "cell_type": "code",
   "execution_count": 15,
   "metadata": {},
   "outputs": [
    {
     "data": {
      "text/plain": [
       "'df_final: (352, 33)'"
      ]
     },
     "metadata": {},
     "output_type": "display_data"
    },
    {
     "data": {
      "text/html": [
       "<div>\n",
       "<style scoped>\n",
       "    .dataframe tbody tr th:only-of-type {\n",
       "        vertical-align: middle;\n",
       "    }\n",
       "\n",
       "    .dataframe tbody tr th {\n",
       "        vertical-align: top;\n",
       "    }\n",
       "\n",
       "    .dataframe thead th {\n",
       "        text-align: right;\n",
       "    }\n",
       "</style>\n",
       "<table border=\"1\" class=\"dataframe\">\n",
       "  <thead>\n",
       "    <tr style=\"text-align: right;\">\n",
       "      <th></th>\n",
       "      <th>player_id</th>\n",
       "      <th>player_name</th>\n",
       "      <th>player_nickname</th>\n",
       "      <th>jersey_number</th>\n",
       "      <th>country</th>\n",
       "      <th>team_name</th>\n",
       "      <th>team_id</th>\n",
       "      <th>match_id</th>\n",
       "      <th>match_date</th>\n",
       "      <th>kick_off</th>\n",
       "      <th>...</th>\n",
       "      <th>competition_id</th>\n",
       "      <th>season_id</th>\n",
       "      <th>stadium</th>\n",
       "      <th>referee</th>\n",
       "      <th>country_name</th>\n",
       "      <th>competition_name</th>\n",
       "      <th>competition_gender</th>\n",
       "      <th>season_name</th>\n",
       "      <th>match_updated</th>\n",
       "      <th>match_available</th>\n",
       "    </tr>\n",
       "  </thead>\n",
       "  <tbody>\n",
       "    <tr>\n",
       "      <th>0</th>\n",
       "      <td>3043</td>\n",
       "      <td>Christian Dannemann Eriksen</td>\n",
       "      <td>Christian Eriksen</td>\n",
       "      <td>23</td>\n",
       "      <td>Denmark</td>\n",
       "      <td>Tottenham Hotspur</td>\n",
       "      <td>38</td>\n",
       "      <td>22912</td>\n",
       "      <td>2019-06-01</td>\n",
       "      <td>21:00:00.000</td>\n",
       "      <td>...</td>\n",
       "      <td>16</td>\n",
       "      <td>4</td>\n",
       "      <td>NaN</td>\n",
       "      <td>NaN</td>\n",
       "      <td>Europe</td>\n",
       "      <td>Champions League</td>\n",
       "      <td>male</td>\n",
       "      <td>2018/2019</td>\n",
       "      <td>2020-02-27T12:19:39.458017</td>\n",
       "      <td>2020-02-27T12:19:39.458017</td>\n",
       "    </tr>\n",
       "    <tr>\n",
       "      <th>1</th>\n",
       "      <td>3077</td>\n",
       "      <td>Jan Vertonghen</td>\n",
       "      <td>None</td>\n",
       "      <td>5</td>\n",
       "      <td>Belgium</td>\n",
       "      <td>Tottenham Hotspur</td>\n",
       "      <td>38</td>\n",
       "      <td>22912</td>\n",
       "      <td>2019-06-01</td>\n",
       "      <td>21:00:00.000</td>\n",
       "      <td>...</td>\n",
       "      <td>16</td>\n",
       "      <td>4</td>\n",
       "      <td>NaN</td>\n",
       "      <td>NaN</td>\n",
       "      <td>Europe</td>\n",
       "      <td>Champions League</td>\n",
       "      <td>male</td>\n",
       "      <td>2018/2019</td>\n",
       "      <td>2020-02-27T12:19:39.458017</td>\n",
       "      <td>2020-02-27T12:19:39.458017</td>\n",
       "    </tr>\n",
       "  </tbody>\n",
       "</table>\n",
       "<p>2 rows × 33 columns</p>\n",
       "</div>"
      ],
      "text/plain": [
       "   player_id                  player_name    player_nickname  jersey_number  \\\n",
       "0       3043  Christian Dannemann Eriksen  Christian Eriksen             23   \n",
       "1       3077               Jan Vertonghen               None              5   \n",
       "\n",
       "   country          team_name  team_id  match_id  match_date      kick_off  \\\n",
       "0  Denmark  Tottenham Hotspur       38     22912  2019-06-01  21:00:00.000   \n",
       "1  Belgium  Tottenham Hotspur       38     22912  2019-06-01  21:00:00.000   \n",
       "\n",
       "   ... competition_id season_id stadium referee  country_name  \\\n",
       "0  ...             16         4     NaN     NaN        Europe   \n",
       "1  ...             16         4     NaN     NaN        Europe   \n",
       "\n",
       "   competition_name competition_gender season_name  \\\n",
       "0  Champions League               male   2018/2019   \n",
       "1  Champions League               male   2018/2019   \n",
       "\n",
       "                match_updated             match_available  \n",
       "0  2020-02-27T12:19:39.458017  2020-02-27T12:19:39.458017  \n",
       "1  2020-02-27T12:19:39.458017  2020-02-27T12:19:39.458017  \n",
       "\n",
       "[2 rows x 33 columns]"
      ]
     },
     "metadata": {},
     "output_type": "display_data"
    }
   ],
   "source": [
    "display(f\"df_final: {df_final.shape}\")\n",
    "display(df_final.head(2))"
   ]
  },
  {
   "cell_type": "code",
   "execution_count": 16,
   "metadata": {},
   "outputs": [
    {
     "data": {
      "text/plain": [
       "Index(['player_id', 'player_name', 'player_nickname', 'jersey_number',\n",
       "       'country', 'team_name', 'team_id', 'match_id', 'match_date', 'kick_off',\n",
       "       'competition', 'season', 'home_team', 'away_team', 'home_score',\n",
       "       'away_score', 'match_status', 'last_updated', 'match_week',\n",
       "       'competition_stage', 'data_version', 'shot_fidelity_version',\n",
       "       'xy_fidelity_version', 'competition_id', 'season_id', 'stadium',\n",
       "       'referee', 'country_name', 'competition_name', 'competition_gender',\n",
       "       'season_name', 'match_updated', 'match_available'],\n",
       "      dtype='object')"
      ]
     },
     "execution_count": 16,
     "metadata": {},
     "output_type": "execute_result"
    }
   ],
   "source": [
    "df_final.columns"
   ]
  },
  {
   "cell_type": "markdown",
   "metadata": {},
   "source": [
    "# Export Player / Team"
   ]
  },
  {
   "cell_type": "code",
   "execution_count": 17,
   "metadata": {},
   "outputs": [],
   "source": [
    "df_final.to_csv('../data/interim/statsbomb/player_team.csv', sep='|', index=False)"
   ]
  }
 ],
 "metadata": {
  "kernelspec": {
   "display_name": "Python 3",
   "language": "python",
   "name": "python3"
  },
  "language_info": {
   "codemirror_mode": {
    "name": "ipython",
    "version": 3
   },
   "file_extension": ".py",
   "mimetype": "text/x-python",
   "name": "python",
   "nbconvert_exporter": "python",
   "pygments_lexer": "ipython3",
   "version": "3.7.6"
  }
 },
 "nbformat": 4,
 "nbformat_minor": 4
}
